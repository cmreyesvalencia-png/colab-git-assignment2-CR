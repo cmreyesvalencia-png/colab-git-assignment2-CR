{
  "nbformat": 4,
  "nbformat_minor": 0,
  "metadata": {
    "colab": {
      "provenance": [],
      "authorship_tag": "ABX9TyOZ2uhuAE1FerzOFsAqrQ4y",
      "include_colab_link": true
    },
    "kernelspec": {
      "name": "python3",
      "display_name": "Python 3"
    },
    "language_info": {
      "name": "python"
    }
  },
  "cells": [
    {
      "cell_type": "markdown",
      "metadata": {
        "id": "view-in-github",
        "colab_type": "text"
      },
      "source": [
        "<a href=\"https://colab.research.google.com/github/cmreyesvalencia-png/colab-git-assignment2-CR/blob/main/assignment2.ipynb\" target=\"_parent\"><img src=\"https://colab.research.google.com/assets/colab-badge.svg\" alt=\"Open In Colab\"/></a>"
      ]
    },
    {
      "cell_type": "markdown",
      "source": [
        "#**Assignment 2: Git and GitHub Version Control**\n",
        "- **Course:** Data Analytics and Business Intelligence\n",
        "Analyst\n",
        "-  **Institution:** Willis College\n",
        "-  **Student Name:**  Carlos Reyes\n",
        "- **Date:** 2025 Oct, 31\n"
      ],
      "metadata": {
        "id": "npwxwbSUgaag"
      }
    },
    {
      "cell_type": "markdown",
      "source": [
        "# ** 2.Google Colab Environment**\n",
        "1. Configure Git in Colab using your credentials.\n",
        "2. Confirm Git installation and configuration."
      ],
      "metadata": {
        "id": "E8na2_xjhD46"
      }
    },
    {
      "cell_type": "code",
      "execution_count": 1,
      "metadata": {
        "colab": {
          "base_uri": "https://localhost:8080/"
        },
        "id": "e0pCXUjJgGF1",
        "outputId": "c4fe50d6-4c95-4b26-e265-2b5a046934d4"
      },
      "outputs": [
        {
          "output_type": "stream",
          "name": "stdout",
          "text": [
            "Reading package lists... Done\n",
            "Building dependency tree... Done\n",
            "Reading state information... Done\n",
            "git is already the newest version (1:2.34.1-1ubuntu1.15).\n",
            "0 upgraded, 0 newly installed, 0 to remove and 41 not upgraded.\n"
          ]
        }
      ],
      "source": [
        "# Set up GIP\n",
        "\n",
        "!apt-get install -y git\n",
        "!git config --global user.email \"cmreyesvalencia@gmail.com\"\n",
        "!git config --global user.name \"cmreyesvalencia-png\""
      ]
    },
    {
      "cell_type": "markdown",
      "source": [
        "# **3. Repository Setup**\n",
        "1. Clone the repository into your Colab environment.\n",
        "2. Confirm that the repository has been cloned successfully by listing its contents."
      ],
      "metadata": {
        "id": "5tujM9D6iwem"
      }
    },
    {
      "cell_type": "code",
      "source": [
        "# Clone the Repository\n",
        "\n",
        "!git clone https://github.com/cmreyesvalencia-png/colab-git-assignment2-CR.git\n",
        "%cd colab-git-assignment2-CR\n",
        "!ls"
      ],
      "metadata": {
        "colab": {
          "base_uri": "https://localhost:8080/"
        },
        "id": "roazyqCli-1o",
        "outputId": "5ac95700-c01d-41ab-dce0-735810ebf420"
      },
      "execution_count": 3,
      "outputs": [
        {
          "output_type": "stream",
          "name": "stdout",
          "text": [
            "Cloning into 'colab-git-assignment2-CR'...\n",
            "remote: Enumerating objects: 3, done.\u001b[K\n",
            "remote: Counting objects: 100% (3/3), done.\u001b[K\n",
            "remote: Total 3 (delta 0), reused 0 (delta 0), pack-reused 0 (from 0)\u001b[K\n",
            "Receiving objects: 100% (3/3), done.\n",
            "/content/colab-git-assignment2-CR\n",
            "README.md\n"
          ]
        }
      ]
    },
    {
      "cell_type": "markdown",
      "source": [
        "# **4. Notebook Creation**\n",
        "1. Create and save a Jupyter notebook (assignment2.ipynb) in your repository.\n",
        "2. Add the following Markdown cell\n"
      ],
      "metadata": {
        "id": "egki9wbpkd95"
      }
    },
    {
      "cell_type": "markdown",
      "source": [
        "# Git and GitHub Assignment 2\n",
        "This notebook demonstrates basic Git operations."
      ],
      "metadata": {
        "id": "ciwrzCh1kwUr"
      }
    }
  ]
}