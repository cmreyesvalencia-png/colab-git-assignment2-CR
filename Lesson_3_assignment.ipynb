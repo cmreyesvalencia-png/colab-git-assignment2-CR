{
  "nbformat": 4,
  "nbformat_minor": 0,
  "metadata": {
    "colab": {
      "provenance": [],
      "include_colab_link": true
    },
    "kernelspec": {
      "name": "python3",
      "display_name": "Python 3"
    },
    "language_info": {
      "name": "python"
    }
  },
  "cells": [
    {
      "cell_type": "markdown",
      "metadata": {
        "id": "view-in-github",
        "colab_type": "text"
      },
      "source": [
        "<a href=\"https://colab.research.google.com/github/cmreyesvalencia-png/colab-git-assignment2-CR/blob/main/Lesson_3_assignment.ipynb\" target=\"_parent\"><img src=\"https://colab.research.google.com/assets/colab-badge.svg\" alt=\"Open In Colab\"/></a>"
      ]
    },
    {
      "cell_type": "markdown",
      "source": [],
      "metadata": {
        "id": "P6EMPjmsJ90h"
      }
    },
    {
      "cell_type": "markdown",
      "source": [
        "#**Assignment 3: Python Refresher**\n",
        "- **Course:** Data Analytics and Business Intelligence\n",
        "Analyst\n",
        "-  **Institution:** Willis College\n",
        "-  **Student Name:**  Carlos Reyes\n",
        "- **Date:** 2025 November, 1\n"
      ],
      "metadata": {
        "id": "npwxwbSUgaag"
      }
    },
    {
      "cell_type": "code",
      "execution_count": 2,
      "metadata": {
        "id": "dnmV0gINSR23",
        "colab": {
          "base_uri": "https://localhost:8080/"
        },
        "outputId": "8fa70a0b-78f5-4d32-e0bf-6875b3662a04"
      },
      "outputs": [
        {
          "output_type": "stream",
          "name": "stdout",
          "text": [
            "Requirement already satisfied: requests in /usr/local/lib/python3.12/dist-packages (2.32.4)\n",
            "Requirement already satisfied: charset_normalizer<4,>=2 in /usr/local/lib/python3.12/dist-packages (from requests) (3.4.4)\n",
            "Requirement already satisfied: idna<4,>=2.5 in /usr/local/lib/python3.12/dist-packages (from requests) (3.11)\n",
            "Requirement already satisfied: urllib3<3,>=1.21.1 in /usr/local/lib/python3.12/dist-packages (from requests) (2.5.0)\n",
            "Requirement already satisfied: certifi>=2017.4.17 in /usr/local/lib/python3.12/dist-packages (from requests) (2025.10.5)\n"
          ]
        }
      ],
      "source": [
        "# Python Library Management System\n",
        "\n",
        "# Install required libraries (This should already exist in colab)\n",
        "!pip install requests\n",
        "\n",
        "import pickle\n",
        "import sqlite3\n",
        "import requests"
      ]
    },
    {
      "cell_type": "code",
      "source": [
        "# 1. Data Types and Variables\n",
        "book_title = \"Python Programming\"\n",
        "book_quantity = 5\n",
        "book_price = 29.99\n",
        "is_available = True\n",
        "\n",
        "print(f\"Book: {book_title}, Quantity: {book_quantity}, Price: ${book_price}, Available: {is_available}\")"
      ],
      "metadata": {
        "colab": {
          "base_uri": "https://localhost:8080/"
        },
        "id": "AXrKVih2ctZy",
        "outputId": "4e4b34eb-dbaa-48cd-b1c5-d17d26cb6f59"
      },
      "execution_count": 3,
      "outputs": [
        {
          "output_type": "stream",
          "name": "stdout",
          "text": [
            "Book: Python Programming, Quantity: 5, Price: $29.99, Available: True\n"
          ]
        }
      ]
    },
    {
      "cell_type": "code",
      "source": [
        "# 2. Lists\n",
        "books = [\"Python Basics\", \"Advanced Python\", \"Data Science with Python\"]\n",
        "\n",
        "# TODO: Add two more books to the list\n",
        "\n",
        "try:\n",
        "    # Edge case: Validate initial list state\n",
        "    if not books:\n",
        "        print(\"Warning: Books list is empty\")\n",
        "\n",
        "    print(f\"Starting with {len(books)} books: {books}\")\n",
        "\n",
        "    # Add first book 'Python Top 10 Skills'\n",
        "    first_new_book = \"Python Top 10 Skills\"\n",
        "\n",
        "    if not first_new_book or not isinstance(first_new_book, str):\n",
        "        raise ValueError(\"Invalid book title for first book\")\n",
        "\n",
        "    books.append(first_new_book)\n",
        "    print(f\"✓ Added: '{first_new_book}'\")\n",
        "\n",
        "    # Add second book 'Python Mastering' at position 3\n",
        "    second_new_book = \"Python Mastering\"\n",
        "    position = 3\n",
        "\n",
        "    if not second_new_book or not isinstance(second_new_book, str):\n",
        "        raise ValueError(\"Invalid book title for second book\")\n",
        "\n",
        "    # Handle position edge cases\n",
        "    if position < 0:\n",
        "        position = 0\n",
        "        print(\"⚠️  Adjusted negative position to 0\")\n",
        "\n",
        "    if position > len(books):\n",
        "        books.append(second_new_book)\n",
        "        print(f\"⚠️  Position {position} too large, appended to end: '{second_new_book}'\")\n",
        "    else:\n",
        "        books.insert(position, second_new_book)\n",
        "        print(f\"✓ Inserted at position {position}: '{second_new_book}'\")\n",
        "\n",
        "    print(\"\\n✅ Updated book list:\", books)\n",
        "    print(f\"\\n📚 Total books: {len(books)}\")\n",
        "\n",
        "except ValueError as e:\n",
        "    print(f\"❌ Value Error: {e}\")\n",
        "except IndexError as e:\n",
        "    print(f\"❌ Index Error: {e}\")\n",
        "except Exception as e:\n",
        "    print(f\"❌ Unexpected Error: {e}\")"
      ],
      "metadata": {
        "colab": {
          "base_uri": "https://localhost:8080/"
        },
        "id": "H-ABbxa9dCaW",
        "outputId": "5ba0de69-0c70-4af6-abea-6031e80aef91"
      },
      "execution_count": 15,
      "outputs": [
        {
          "output_type": "stream",
          "name": "stdout",
          "text": [
            "Starting with 3 books: ['Python Basics', 'Advanced Python', 'Data Science with Python']\n",
            "✓ Added: 'Python Top 10 Skills'\n",
            "✓ Inserted at position 3: 'Python Mastering'\n",
            "\n",
            "✅ Updated book list: ['Python Basics', 'Advanced Python', 'Data Science with Python', 'Python Mastering', 'Python Top 10 Skills']\n",
            "\n",
            "📚 Total books: 5\n"
          ]
        }
      ]
    },
    {
      "cell_type": "code",
      "source": [
        "# 3. Loops and range()\n",
        "print(\"Available books:\\n\")\n",
        "\n",
        "try:\n",
        "    # TODO: Use a for loop and range() to print books with their indices\n",
        "    for i in range(len(books)):\n",
        "        print(f\"{i}: {books[i]}\")\n",
        "\n",
        "except NameError:\n",
        "    print(\"Books list not found - please run the previous code section first.\")\n",
        "except Exception as e:\n",
        "    print(f\"Error displaying books: {e}\")"
      ],
      "metadata": {
        "colab": {
          "base_uri": "https://localhost:8080/"
        },
        "id": "ee4d2KxZdKdU",
        "outputId": "c1a61eb4-6570-4bc7-e8fc-daec4a120449"
      },
      "execution_count": 17,
      "outputs": [
        {
          "output_type": "stream",
          "name": "stdout",
          "text": [
            "Available books:\n",
            "\n",
            "0: Python Basics\n",
            "1: Advanced Python\n",
            "2: Data Science with Python\n",
            "3: Python Mastering\n",
            "4: Python Top 10 Skills\n"
          ]
        }
      ]
    },
    {
      "cell_type": "code",
      "source": [
        "# 4. User Input\n",
        "new_book = input(\"Enter a new book title: \")\n",
        "books.append(new_book)\n",
        "print(\"Updated book list:\", books)"
      ],
      "metadata": {
        "colab": {
          "base_uri": "https://localhost:8080/"
        },
        "id": "EWmrWJXydOB-",
        "outputId": "89879022-144a-4db3-f19a-ca84cd7a0d3f"
      },
      "execution_count": null,
      "outputs": [
        {
          "output_type": "stream",
          "name": "stdout",
          "text": [
            "Enter a new book title: Python Top 10 mistakes\n",
            "Updated book list: ['Python Basics', 'Advanced Python', 'Data Science with Python', 'Python Mastering', 'Python Top 10 Skills', 'Python Top 10 mistakes']\n"
          ]
        }
      ]
    },
    {
      "cell_type": "code",
      "source": [
        "# 5. Functions and Conditional Statements\n",
        "def check_availability(book_name):\n",
        "\n",
        "# TODO: Check if the book is in the list and return True if available, False otherwise\n",
        "\n",
        " if not isinstance(book_name, str) or not book_name.strip():\n",
        "        return False\n",
        "\n",
        " if book_name in books:\n",
        "        return True\n",
        " else:\n",
        "        return False\n",
        "\n",
        "# Test the function\n",
        "print(f\"Is 'Python Basics' available? {check_availability('Python Basics')}\")\n"
      ],
      "metadata": {
        "colab": {
          "base_uri": "https://localhost:8080/"
        },
        "id": "IGwu7iNmdR3O",
        "outputId": "4f11947a-c312-4401-90e9-a5bdef36d182"
      },
      "execution_count": 22,
      "outputs": [
        {
          "output_type": "stream",
          "name": "stdout",
          "text": [
            "Is 'Python Basics' available? True\n"
          ]
        }
      ]
    },
    {
      "cell_type": "code",
      "source": [
        "# 6. File I/O\n",
        "def save_books_to_file(filename):\n",
        "    try:\n",
        "        with open(filename, 'w') as f:\n",
        "            for book in books:\n",
        "                f.write(f\"{book}\\n\")\n",
        "    except Exception as e:\n",
        "        print(f\"Error saving books: {e}\")\n",
        "\n",
        "# TODO: Implement a function to read books from a file\n",
        "def read_books_from_file(filename):\n",
        "    global books  # This will update the global books list\n",
        "    try:\n",
        "        books = []    # Clear the current list\n",
        "        with open(filename, 'r') as f:\n",
        "            for line in f:\n",
        "                # Remove newline characters and add to books list\n",
        "                books.append(line.strip())\n",
        "    except FileNotFoundError:\n",
        "        print(f\"Error: File '{filename}' not found\")\n",
        "    except Exception as e:\n",
        "        print(f\"Error reading books: {e}\")\n",
        "\n",
        "# Test file I/O\n",
        "save_books_to_file(\"books.txt\")\n",
        "!cat books.txt  # Display file contents in Colab"
      ],
      "metadata": {
        "colab": {
          "base_uri": "https://localhost:8080/"
        },
        "id": "efLRI8CBdZh-",
        "outputId": "acd23670-9035-49e8-b24d-726f19cf0941"
      },
      "execution_count": 23,
      "outputs": [
        {
          "output_type": "stream",
          "name": "stdout",
          "text": [
            "Python Basics\n",
            "Advanced Python\n",
            "Data Science with Python\n",
            "Python Mastering\n",
            "Python Top 10 Skills\n"
          ]
        }
      ]
    },
    {
      "cell_type": "code",
      "source": [
        "# 7. Pickle for serialization\n",
        "def save_books_pickle(filename):\n",
        "    try:\n",
        "        with open(filename, 'wb') as f:\n",
        "            pickle.dump(books, f)\n",
        "    except Exception as e:\n",
        "        print(f\"Error saving books with pickle: {e}\")\n",
        "\n",
        "# TODO: Implement a function to load books using pickle\n",
        "def load_books_pickle(filename):\n",
        "    try:\n",
        "        with open(filename, 'rb') as f:\n",
        "            loaded_books = pickle.load(f)\n",
        "        return loaded_books\n",
        "    except FileNotFoundError:\n",
        "        print(f\"Error: Pickle file '{filename}' not found\")\n",
        "        return []\n",
        "    except Exception as e:\n",
        "        print(f\"Error loading books with pickle: {e}\")\n",
        "        return []\n",
        "\n",
        "# Test pickle functions\n",
        "save_books_pickle(\"books.pkl\")\n",
        "\n",
        "# Uncomment the next line after implementing load_books_pickle\n",
        "print(\"Books loaded from pickle:\", load_books_pickle(\"books.pkl\"))"
      ],
      "metadata": {
        "id": "zp8QjW1oePvY",
        "colab": {
          "base_uri": "https://localhost:8080/"
        },
        "outputId": "85bfb030-780a-48fb-ef2c-48348b7628a7"
      },
      "execution_count": 24,
      "outputs": [
        {
          "output_type": "stream",
          "name": "stdout",
          "text": [
            "Books loaded from pickle: ['Python Basics', 'Advanced Python', 'Data Science with Python', 'Python Mastering', 'Python Top 10 Skills']\n"
          ]
        }
      ]
    },
    {
      "cell_type": "code",
      "source": [
        "# 8. SQLite Database Interaction\n",
        "def create_books_table():\n",
        "    try:\n",
        "        conn = sqlite3.connect('library.db')\n",
        "        cursor = conn.cursor()\n",
        "        cursor.execute('''CREATE TABLE IF NOT EXISTS books\n",
        "                          (id INTEGER PRIMARY KEY, title TEXT, quantity INTEGER)''')\n",
        "        conn.commit()\n",
        "        conn.close()\n",
        "    except Exception as e:\n",
        "        print(f\"Error creating books table: {e}\")\n",
        "\n",
        "# TODO: Implement a function to add a book to the SQLite database\n",
        "def add_book_to_db(title, quantity):\n",
        "    try:\n",
        "        conn = sqlite3.connect('library.db')\n",
        "        cursor = conn.cursor()\n",
        "        cursor.execute(\"INSERT INTO books (title, quantity) VALUES (?, ?)\", (title, quantity))\n",
        "        conn.commit()\n",
        "        conn.close()\n",
        "        print(f\"✅ Successfully added '{title}' with quantity {quantity} to database\")\n",
        "    except Exception as e:\n",
        "        print(f\"Error adding book to database: {e}\")\n",
        "\n",
        "# Test database functions\n",
        "create_books_table()\n",
        "# Uncomment the next line after implementing add_book_to_db\n",
        "add_book_to_db(\"Python for Beginners\", 10)"
      ],
      "metadata": {
        "id": "_PGdqp5udoF_",
        "colab": {
          "base_uri": "https://localhost:8080/"
        },
        "outputId": "8a71f268-068e-4b6d-9780-4c8c5c00c673"
      },
      "execution_count": 25,
      "outputs": [
        {
          "output_type": "stream",
          "name": "stdout",
          "text": [
            "✅ Successfully added 'Python for Beginners' with quantity 10 to database\n"
          ]
        }
      ]
    },
    {
      "cell_type": "code",
      "source": [],
      "metadata": {
        "colab": {
          "base_uri": "https://localhost:8080/"
        },
        "id": "GcHE61OteT9-",
        "outputId": "2b51c06c-923f-408e-e5c2-9422e1fe13a4"
      },
      "execution_count": null,
      "outputs": [
        {
          "output_type": "stream",
          "name": "stdout",
          "text": [
            "Top 5 Python repositories on GitHub: ['free-programming-books', 'public-apis', 'system-design-primer', 'awesome-python', 'Python']\n",
            "\n",
            "Library Management System operations completed.\n"
          ]
        }
      ]
    },
    {
      "cell_type": "code",
      "source": [
        "# 9. Web API Interaction (GitHub API)\n",
        "def get_python_repos():\n",
        "    try:\n",
        "        url = \"https://api.github.com/search/repositories\"\n",
        "        params = {\"q\": \"language:python\", \"sort\": \"stars\", \"order\": \"desc\"}\n",
        "        response = requests.get(url, params=params)\n",
        "        data = response.json()\n",
        "        return [repo['name'] for repo in data['items'][:5]]\n",
        "    except Exception as e:\n",
        "        print(f\"Error fetching Python repositories: {e}\")\n",
        "        return []\n",
        "\n",
        "# Test API function\n",
        "print(\"Top 5 Python repositories on GitHub:\", get_python_repos())\n",
        "\n",
        "print(\"\\nLibrary Management System operations completed.\")"
      ],
      "metadata": {
        "id": "OagIRKt0iRCj",
        "colab": {
          "base_uri": "https://localhost:8080/"
        },
        "outputId": "6059af38-6f4f-4b10-c526-04f4f1d89d7b"
      },
      "execution_count": 26,
      "outputs": [
        {
          "output_type": "stream",
          "name": "stdout",
          "text": [
            "Top 5 Python repositories on GitHub: ['free-programming-books', 'public-apis', 'system-design-primer', 'awesome-python', 'Python']\n",
            "\n",
            "Library Management System operations completed.\n"
          ]
        }
      ]
    }
  ]
}